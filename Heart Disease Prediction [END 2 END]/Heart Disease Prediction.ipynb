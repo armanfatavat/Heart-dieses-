# Importing essential libraries
import numpy as np
import pandas as pd
import matplotlib.pyplot as plt
import seaborn as sns
from sklearn.model_selection import cross_val_score
from sklearn.neighbors import KNeighborsClassifier
from sklearn.tree import DecisionTreeClassifier
from sklearn.ensemble import RandomForestClassifier
from sklearn.preprocessing import StandardScaler

# Load the dataset
df = pd.read_csv('heart.csv')

# Explore the dataset
print("Shape:", df.shape)
print("Columns:", df.columns)
print("Data Types:\n", df.dtypes)
print("First 5 rows:\n", df.head())
print("Last 5 rows:\n", df.tail())
print("Null values:\n", df.isnull().any())
df.info()
print("Statistics:\n", df.describe().T)

# Data Visualization
plt.figure(figsize=(15,15))
df.hist(ax=plt.gca())
plt.show()

sns.countplot(x='target', data=df)
plt.xlabel('Target')
plt.ylabel('Count')
plt.title('Target Class Distribution')
plt.show()

# Heatmap for correlation
corr_matrix = df.corr()
plt.figure(figsize=(20,20))
sns.heatmap(data=corr_matrix, annot=True, cmap='RdYlGn')
plt.title('Feature Correlation Heatmap')
plt.show()

# Feature Engineering: One-hot encoding categorical variables
dataset = pd.get_dummies(df, columns=['sex', 'cp', 'fbs', 'restecg', 'exang', 'slope', 'ca', 'thal'])

# Feature Scaling
standScaler = StandardScaler()
columns_to_scale = ['age', 'trestbps', 'chol', 'thalach', 'oldpeak']
dataset[columns_to_scale] = standScaler.fit_transform(dataset[columns_to_scale])

# Splitting dataset into independent and dependent features
X = dataset.drop('target', axis=1)
y = dataset['target']

# K-Nearest Neighbors (KNN)
knn_scores = []
for i in range(1, 21):
    knn_classifier = KNeighborsClassifier(n_neighbors=i)
    cvs_scores = cross_val_score(knn_classifier, X, y, cv=10)
    knn_scores.append(round(cvs_scores.mean(),3))

plt.figure(figsize=(20,15))
plt.plot(range(1, 21), knn_scores, color='red')
for i in range(1, 21):
    plt.text(i, knn_scores[i-1], str(knn_scores[i-1]))
plt.xticks(range(1, 21))
plt.xlabel('Number of Neighbors (K)')
plt.ylabel('Scores')
plt.title('K Neighbors Classifier scores for different K values')
plt.show()

# Best KNN model
knn_classifier = KNeighborsClassifier(n_neighbors=12)
cvs_scores = cross_val_score(knn_classifier, X, y, cv=10)
print("KNeighbors Classifier Accuracy with K=12 is: {:.2f}%".format(cvs_scores.mean() * 100))

# Decision Tree
decision_scores = []
for i in range(1, 11):
    decision_classifier = DecisionTreeClassifier(max_depth=i)
    cvs_scores = cross_val_score(decision_classifier, X, y, cv=10)
    decision_scores.append(round(cvs_scores.mean(), 3))

plt.figure(figsize=(20,15))
plt.plot(range(1, 11), decision_scores, color='red')
for i in range(1, 11):
    plt.text(i, decision_scores[i-1], str(decision_scores[i-1]))
plt.xticks(range(1, 11))
plt.xlabel('Depth of Decision Tree')
plt.ylabel('Scores')
plt.title('Decision Tree Classifier scores for different depth values')
plt.show()

# Best Decision Tree model
decision_classifier = DecisionTreeClassifier(max_depth=3)
cvs_scores = cross_val_score(decision_classifier, X, y, cv=10)
print("Decision Tree Classifier Accuracy with max_depth=3 is: {:.2f}%".format(cvs_scores.mean() * 100))

# Random Forest
forest_scores = []
for i in range(10, 101, 10):
    forest_classifier = RandomForestClassifier(n_estimators=i)
    cvs_scores = cross_val_score(forest_classifier, X, y, cv=5)
    forest_scores.append(round(cvs_scores.mean(), 3))

plt.figure(figsize=(20,15))
plt.plot(range(10, 101, 10), forest_scores, color='red')
for idx, val in enumerate(range(10, 101, 10)):
    plt.text(val, forest_scores[idx], str(forest_scores[idx]))
plt.xticks(range(10, 101, 10))
plt.xlabel('Number of Estimators')
plt.ylabel('Scores')
plt.title('Random Forest Classifier scores for different N values')
plt.show()

# Best Random Forest model
forest_classifier = RandomForestClassifier(n_estimators=90)
cvs_scores = cross_val_score(forest_classifier, X, y, cv=5)
print("Random Forest Classifier Accuracy with n_estimators=90 is: {:.2f}%".format(cvs_scores.mean() * 100))
